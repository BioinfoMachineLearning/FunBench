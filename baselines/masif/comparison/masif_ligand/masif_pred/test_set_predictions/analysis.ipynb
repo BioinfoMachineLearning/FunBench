{
 "cells": [
  {
   "cell_type": "code",
   "execution_count": 1,
   "metadata": {},
   "outputs": [],
   "source": [
    "import numpy as np\n",
    "import pickle\n",
    "import matplotlib.pyplot as plt\n",
    "import matplotlib\n",
    "from sklearn.decomposition import PCA\n",
    "from sklearn.manifold import TSNE\n",
    "from sklearn.metrics import confusion_matrix\n",
    "import random\n",
    "import seaborn as sns\n",
    "import pandas as pd\n",
    "import glob\n",
    "from sklearn.metrics import accuracy_score\n",
    "from sklearn.metrics import balanced_accuracy_score\n",
    "\n",
    "\n",
    "%matplotlib inline"
   ]
  },
  {
   "cell_type": "code",
   "execution_count": 2,
   "metadata": {},
   "outputs": [],
   "source": [
    "pdbs = glob.glob('*_labels.npy')\n",
    "pdbs = ['_'.join(p.split('_')[0:2]) for p in pdbs]"
   ]
  },
  {
   "cell_type": "code",
   "execution_count": 3,
   "metadata": {},
   "outputs": [
    {
     "data": {
      "text/plain": [
       "273"
      ]
     },
     "execution_count": 3,
     "metadata": {},
     "output_type": "execute_result"
    }
   ],
   "source": [
    "len(pdbs)"
   ]
  },
  {
   "cell_type": "code",
   "execution_count": 4,
   "metadata": {},
   "outputs": [],
   "source": [
    "ytrue = []\n",
    "for pdb in pdbs:\n",
    "    ytrue = ytrue + list(np.load('{}_labels.npy'.format(pdb)))"
   ]
  },
  {
   "cell_type": "code",
   "execution_count": 5,
   "metadata": {},
   "outputs": [
    {
     "data": {
      "text/plain": [
       "451"
      ]
     },
     "execution_count": 5,
     "metadata": {},
     "output_type": "execute_result"
    }
   ],
   "source": [
    "len(ytrue)"
   ]
  },
  {
   "cell_type": "code",
   "execution_count": 16,
   "metadata": {},
   "outputs": [],
   "source": [
    "ypred = []\n",
    "all_logits = np.empty((0,7))\n",
    "n_lig_tot = 0\n",
    "all_pdb_ids = []\n",
    "for i,pdb in enumerate(pdbs):\n",
    "    logits = np.load('{}_logits.npy'.format(pdb))\n",
    "    n_ligands = logits.shape[0]\n",
    "    n_lig_tot += n_ligands\n",
    "    if n_ligands == 0:\n",
    "        continue\n",
    "    all_logits = np.vstack([all_logits,np.squeeze(np.mean(logits,axis=1))])\n",
    "    all_pdb_ids = all_pdb_ids + n_ligands*[pdb]\n",
    "    if n_ligands ==1 :\n",
    "        ypred = ypred + [np.argmax(np.squeeze(np.mean(logits,axis=1)))]\n",
    "    else:\n",
    "        ypred = ypred + list(np.argmax(np.squeeze(np.mean(logits,axis=1)),axis=1))"
   ]
  },
  {
   "cell_type": "code",
   "execution_count": 17,
   "metadata": {},
   "outputs": [
    {
     "data": {
      "text/plain": [
       "451"
      ]
     },
     "execution_count": 17,
     "metadata": {},
     "output_type": "execute_result"
    }
   ],
   "source": [
    "len(ypred)"
   ]
  },
  {
   "cell_type": "code",
   "execution_count": 18,
   "metadata": {},
   "outputs": [],
   "source": [
    "conf = confusion_matrix(ytrue, ypred)"
   ]
  },
  {
   "cell_type": "code",
   "execution_count": 19,
   "metadata": {},
   "outputs": [
    {
     "data": {
      "text/plain": [
       "array([[126,   0,   7,   2,   9,   0,   2],\n",
       "       [  2,  29,   5,   2,   5,   3,   0],\n",
       "       [  8,   5,  52,   0,   6,   0,   0],\n",
       "       [  3,   1,   0,  64,   0,   0,   0],\n",
       "       [  5,   0,   4,   0,  36,   4,   0],\n",
       "       [  2,   1,   3,   0,   3,  19,   0],\n",
       "       [  7,   0,   2,   0,   9,   0,  25]], dtype=int64)"
      ]
     },
     "execution_count": 19,
     "metadata": {},
     "output_type": "execute_result"
    }
   ],
   "source": [
    "conf"
   ]
  },
  {
   "cell_type": "code",
   "execution_count": 20,
   "metadata": {},
   "outputs": [],
   "source": [
    "conf_frac = conf/np.sum(conf,axis=1)[:,None]\n",
    "conf_frac = pd.DataFrame(conf_frac, index=['True ADP', 'True COA', \n",
    "        'True FAD', 'True HEM', 'True NAD', 'True NAP', 'True SAM'], \n",
    "        columns= ['Pred ADP', 'Pred COA', 'Pred FAD', 'Pred HEM', 'Pred NAD', \n",
    "                  'Pred NAP', 'Pred SAM'])"
   ]
  },
  {
   "cell_type": "code",
   "execution_count": 21,
   "metadata": {},
   "outputs": [
    {
     "data": {
      "image/png": "[encoded data removed]",
      "text/plain": [
       "<Figure size 432x288 with 2 Axes>"
      ]
     },
     "metadata": {
      "needs_background": "light"
     },
     "output_type": "display_data"
    }
   ],
   "source": [
    "ax = sns.heatmap(conf_frac,vmin=0.0, vmax=1.0, annot=True)\n",
    "plt.tight_layout()\n",
    "#plt.savefig('/Users/freyr/Desktop/paper_images/classification/sequenceSplit_allFeatures_numbers.pdf', type='pdf')\n",
    "#plt.savefig('/Users/freyr/Desktop/thesis_images/pocket_clustering/heatmap_noStructClust.eps')"
   ]
  },
  {
   "cell_type": "code",
   "execution_count": 172,
   "metadata": {},
   "outputs": [],
   "source": [
    "high_conf = []\n",
    "thresh = 0.75\n",
    "for log,pred,true in zip(all_logits,ypred,ytrue):\n",
    "    if log[pred]>thresh:\n",
    "        high_conf.append(True)\n",
    "    else:\n",
    "        high_conf.append(False)"
   ]
  },
  {
   "cell_type": "code",
   "execution_count": 173,
   "metadata": {},
   "outputs": [
    {
     "data": {
      "text/plain": [
       "292"
      ]
     },
     "execution_count": 173,
     "metadata": {},
     "output_type": "execute_result"
    }
   ],
   "source": [
    "np.sum(high_conf)"
   ]
  },
  {
   "cell_type": "code",
   "execution_count": 174,
   "metadata": {},
   "outputs": [],
   "source": [
    "conf_highconf = confusion_matrix(np.array(ytrue)[high_conf], np.array(ypred)[high_conf])"
   ]
  },
  {
   "cell_type": "code",
   "execution_count": 175,
   "metadata": {},
   "outputs": [
    {
     "data": {
      "text/plain": [
       "array([[116,   0,   4,   1,   3,   0,   0],\n",
       "       [  1,  20,   0,   0,   1,   0,   0],\n",
       "       [  1,   0,  35,   0,   1,   0,   0],\n",
       "       [  0,   0,   0,  60,   0,   0,   0],\n",
       "       [  1,   0,   0,   0,  14,   2,   0],\n",
       "       [  0,   0,   0,   0,   0,   7,   0],\n",
       "       [  1,   0,   0,   0,   4,   0,  20]], dtype=int64)"
      ]
     },
     "execution_count": 175,
     "metadata": {},
     "output_type": "execute_result"
    }
   ],
   "source": [
    "conf_highconf"
   ]
  },
  {
   "cell_type": "code",
   "execution_count": 176,
   "metadata": {},
   "outputs": [],
   "source": [
    "conf__highconf_frac = conf_highconf/np.sum(conf_highconf,axis=1)[:,None]\n",
    "conf__highconf_frac = pd.DataFrame(conf__highconf_frac, index=['True ADP', 'True COA', \n",
    "        'True FAD', 'True HEM', 'True NAD', 'True NAP', 'True SAM'], \n",
    "        columns= ['Pred ADP', 'Pred COA', 'Pred FAD', 'Pred HEM', 'Pred NAD', \n",
    "                  'Pred NAP', 'Pred SAM'])"
   ]
  },
  {
   "cell_type": "code",
   "execution_count": 177,
   "metadata": {},
   "outputs": [
    {
     "data": {
      "image/png": "[encoded data removed]",
      "text/plain": [
       "<Figure size 432x288 with 2 Axes>"
      ]
     },
     "metadata": {
      "needs_background": "light"
     },
     "output_type": "display_data"
    }
   ],
   "source": [
    "ax = sns.heatmap(conf__highconf_frac,vmin=0.0, vmax=1.0, annot=True)\n",
    "plt.tight_layout()\n",
    "#plt.savefig('/Users/freyr/Desktop/paper_images/classification/sequenceSplit_allFeatures_numbers.pdf', type='pdf')\n",
    "#plt.savefig('/Users/freyr/Desktop/thesis_images/pocket_clustering/heatmap_noStructClust.eps')"
   ]
  },
  {
   "cell_type": "code",
   "execution_count": 178,
   "metadata": {},
   "outputs": [
    {
     "name": "stdout",
     "output_type": "stream",
     "text": [
      "3TKA_AB [4.89625800e-03 1.59840827e-04 1.25846947e-02 2.39674393e-02\n",
      " 9.27218795e-01 2.56973295e-03 2.86030844e-02] 4 6\n",
      "3TKA_AB [3.83399427e-03 9.69431421e-05 2.01992039e-02 3.43560204e-02\n",
      " 9.12910223e-01 4.35621757e-03 2.42471620e-02] 4 6\n",
      "4X61_AB [7.04460312e-04 1.67414677e-04 1.12528659e-01 9.05234590e-02\n",
      " 7.94945240e-01 2.27967666e-05 1.10813812e-03] 4 6\n",
      "5W7P_AB [1.76660940e-02 7.95604283e-05 5.29392483e-03 2.07588449e-01\n",
      " 7.60533392e-01 1.14259507e-04 8.72428622e-03] 4 6\n"
     ]
    }
   ],
   "source": [
    "for ids,log,pred,true in zip(all_pdb_ids,all_logits,ypred,ytrue):\n",
    "    if (true==6) and (pred==4) and (log[pred]>thresh):\n",
    "        print(ids,log,pred,true)"
   ]
  },
  {
   "cell_type": "code",
   "execution_count": 179,
   "metadata": {},
   "outputs": [
    {
     "name": "stdout",
     "output_type": "stream",
     "text": [
      "3B1F_AB [2.25559808e-03 1.28057860e-02 5.12469909e-04 9.53976589e-04\n",
      " 1.43319145e-02 9.69130337e-01 9.83844620e-06] 5 4\n",
      "3B1F_AB [1.10629643e-03 5.93908364e-03 2.46093317e-04 5.76408020e-05\n",
      " 4.97355266e-03 9.87675190e-01 2.09558857e-06] 5 4\n"
     ]
    }
   ],
   "source": [
    "for ids,log,pred,true in zip(all_pdb_ids,all_logits,ypred,ytrue):\n",
    "    if (true==4) and (pred==5) and (log[pred]>thresh):\n",
    "        print(ids,log,pred,true)"
   ]
  },
  {
   "cell_type": "code",
   "execution_count": null,
   "metadata": {},
   "outputs": [],
   "source": []
  }
 ],
 "metadata": {
  "kernelspec": {
   "display_name": "Python 3",
   "language": "python",
   "name": "python3"
  },
  "language_info": {
   "codemirror_mode": {
    "name": "ipython",
    "version": 3
   },
   "file_extension": ".py",
   "mimetype": "text/x-python",
   "name": "python",
   "nbconvert_exporter": "python",
   "pygments_lexer": "ipython3",
   "version": "3.7.3"
  }
 },
 "nbformat": 4,
 "nbformat_minor": 2
}
